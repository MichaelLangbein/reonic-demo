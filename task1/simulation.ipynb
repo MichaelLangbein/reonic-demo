{
 "cells": [
  {
   "cell_type": "markdown",
   "metadata": {},
   "source": [
    "# Context\n",
    "Imagine you're a shopowner and you have a number of parking spaces (e.g. 200) available in\n",
    "front of your store for shoppers & employees. Now, because you see more and more EVs parking there every day, you're planning on building some chargepoints.\n",
    "But first, you're trying to figure out how much power these chargers actually need, and how much energy they'll consume.\n",
    "\n",
    "## Why is this relevant\n",
    "If you build 20 charging stations with a maximum charging speed of 11kW each, the\n",
    "theoretical maximum of total power demand is 220kW (a very high number that would be expensive to satisfy, e.g. requiring a new, more powerful grid connection). You know this isonly a theoretical figure, because its statistically unlikely for all 20 charging stations to be charging at full power at the same time.\n",
    "By simulating how electric chargers are actually used we can simulate how high the total energy consumption (kWh) is, what peak power loads (kW) occur, and how these figures\n",
    "behave change with the number of chargepoints installed.\n",
    "That's your task for today!\n",
    "\n",
    "\n",
    "# Tasks\n",
    "## Task 1: Logic\n",
    "\n",
    "\n",
    "Tech: Feel free to use any programming language you like for this task.\n",
    "\n",
    "\n",
    "Write a program to simulate 20 charge-points with 11kW power for one year in 15-minute intervals (non-leap-year, 365 days / 35040 ticks).\n",
    "The probability distribution of an EV arriving at a charge-point at a given time is displayed in T1. \n",
    "A charge-point can only charge one EV at a time, meaning it is blocked from receiving another EV until the prior one has left again. For simplicity, we assume that EVs depart as soon as they're done charging.\n",
    "The probability distribution of an arriving EV's charging needs is displayed in T2. \n",
    "We assume that all EVs are standard vehicles and need 18kWh per 100kms.\n",
    "\n",
    "\n",
    "When you've done this, calculate:\n",
    "- Total energy consumed in kWh\n",
    "- The theoretical maximum power demand\n",
    "- The actual maximum power demand (= the maximum sum of all charge-points power demands at a given 15-minute interval)\n",
    "- The ratio of actual to maximum power demand (\"concurrency factor\")"
   ]
  },
  {
   "cell_type": "markdown",
   "metadata": {},
   "source": [
    "# Side note: possible analytical solution using PGF's?\n",
    "\n",
    "Cars have to stay at a charging point until they're fully charged.\n",
    "This causes a discontinuity, \n",
    "because new cars arriving might already find all charging points occupied.\n",
    "If it weren't for that, this situation could potentially be modelled \n",
    "elegantly using probability generating functions (PGF's):\n",
    "https://www.youtube.com/watch?v=FuJq8Td-rxc&list=PL0SSkmc4r_BY-3yXxYM75h1pJTxgJgisI\n"
   ]
  },
  {
   "cell_type": "code",
   "execution_count": 1,
   "metadata": {},
   "outputs": [],
   "source": [
    "\n",
    "import numpy as np\n",
    "import matplotlib.pyplot as plt\n",
    "\n",
    "\n",
    "\n",
    "################################################################\n",
    "#               GIVENS\n",
    "################################################################\n",
    "\n",
    "days = 365\n",
    "nrChargingPoints = 20\n",
    "powerPerStation_kW = 11 #kW\n",
    "\n",
    "# T1\n",
    "# time -> prob\n",
    "# “The probability distribution of an EV arriving at a chargepoint at a given time” \n",
    "# ist etwas unklar formuliert. Gemeint ist der erste, simplere Fall: \n",
    "# Für einen Chargepoint besteht zum Zeitpunkt x eine gewisse Wahrscheinlichkeit, \n",
    "# dass ein Fahrzeug ankommt. \n",
    "# Falls der Chargepoint belegt ist dann kann nicht geladen werden.\n",
    "# Das ein Auto an einem Chargepoint erscheint ist nicht garantiert, pro Tick wird bestimmt ob ein Fahrzeug ankommt oder nicht. Dabei kann es natürlich auch vorkommen, dass an einem Chargepoint im Tagesverlauf mehrere Fahrezeuge laden.\n",
    "# Die Tabelle bedeutet: \n",
    "# “Wahrscheinlichkeit im Tagesverlauf dafür, dass ein Auto an diesem Chargepoint ankommt”. \n",
    "# Für die Ticks zwischen 16-17 Uhr beträgt die Wahrscheinlichkeit, \n",
    "# dass ein Fahrzeug ankommt beispielsweise 10.38%. \n",
    "# Unabhängig davon ob tatsächlich ein Fahrzeug ankommt oder nicht \n",
    "# ist die Wahrscheinlichkeit das ein Fahrzeug zwischen 17-18 Uhr ankommt dann wieder 10.38 %.\n",
    "probOneCarAppears = {\n",
    "    0: 0.0094,\n",
    "    1: 0.0094,\n",
    "    2: 0.0094,\n",
    "    3: 0.0094,\n",
    "    4: 0.0094,\n",
    "    5: 0.0094,\n",
    "    6: 0.0094,\n",
    "    7: 0.0094,\n",
    "    8: 0.0283,\n",
    "    9: 0.0283,\n",
    "    10: 0.0566,\n",
    "    11: 0.0566,\n",
    "    12: 0.0566,\n",
    "    13: 0.0755,\n",
    "    14: 0.0755,\n",
    "    15: 0.0755,\n",
    "    16: 0.1038,\n",
    "    17: 0.1038,\n",
    "    18: 0.1038,\n",
    "    19: 0.0472,\n",
    "    20: 0.0472,\n",
    "    21: 0.0472,\n",
    "    22: 0.0094,\n",
    "    23: 0.0094,\n",
    "}\n",
    "\n",
    "#  T1: Charging demand probabilities\n",
    "# km -> prob\n",
    "probDemand = {\n",
    "    0: 0.3431,\n",
    "    5: 0.0490,\n",
    "    10: 0.0980,\n",
    "    20: 0.1176,\n",
    "    30: 0.0882,\n",
    "    50: 0.1176,\n",
    "    100: 0.1078,\n",
    "    200: 0.0490,\n",
    "    300: 0.0294,\n",
    "}\n"
   ]
  },
  {
   "cell_type": "markdown",
   "metadata": {},
   "source": [
    "# Simulation code\n",
    "\n",
    "The most important parts of the next section are already commented in the code. \n",
    "\n",
    "Most notably:\n",
    "- `probOneCarAppearsQuartHourly`: note that this probability assumes that the data of table `T1` has been obtained by measuring real world data and that the probability of arrival within an hour is _not_ memory-less.\n",
    "- This is only _one_ realization of a stochastic process. To get a good impression of the distribution of possible results, a simple Monte-Carlo approach might make sense."
   ]
  },
  {
   "cell_type": "code",
   "execution_count": 2,
   "metadata": {},
   "outputs": [],
   "source": [
    "\n",
    "################################################################\n",
    "#               MAIN FUNCTION\n",
    "################################################################\n",
    "\n",
    "def simulation(probOneCarAppears, probDemand, days = 365, nrChargingPoints = 20, powerPerStation_kW = 11, ):\n",
    "\n",
    "\n",
    "    ###############  DERIVED DATA #################################\n",
    "\n",
    "    # dividing prob that one car arrives in an hour by four, \n",
    "    # to get prob that one car arrives in a quarter of an hour.\n",
    "    # we assume here that `probOneCarAppears` has been obtained \n",
    "    # by measuring the number of appearances of cars and then aggregating hourly.\n",
    "    # otherwise, simply dividing by 4 might not be allowed.\n",
    "    # The latter might for example be the case when simulating the probability\n",
    "    # of the arrival of a bus at a bus-stop with an exponential distribution,\n",
    "    # which notoriously is memory-less, i.e. doesn't depend on how long you've \n",
    "    # already been waiting. https://pages.cs.wisc.edu/~dsmyers/cs547/lecture_9_memoryless_property.pdf\n",
    "    probOneCarAppearsQuartHourly = {\n",
    "        t: probOneCarAppears[np.floor(t / 4)] / 4 for t in range(24*4)\n",
    "    }\n",
    "\n",
    "    times = probOneCarAppearsQuartHourly.keys()\n",
    "\n",
    "    ###############  UTILS  #######################################\n",
    "\n",
    "\n",
    "    def distToCumlDist(dist):\n",
    "        cumDist = {}\n",
    "        cumProb = 0\n",
    "        for val, prob in dist.items():\n",
    "            cumProb += prob\n",
    "            cumDist[val] = cumProb\n",
    "        return cumDist\n",
    "\n",
    "    def drawFromDist(dist):\n",
    "        cumDist = distToCumlDist(dist)\n",
    "        draw = np.random.rand()\n",
    "        for val, cumProb in cumDist.items():\n",
    "            if draw < cumProb:\n",
    "                return val\n",
    "        return val\n",
    "\n",
    "    class Car:\n",
    "        def __init__(self):\n",
    "            # 18kWh per 100kms\n",
    "            #   [kWh]     [km]                      [kWh] [km]\n",
    "            self.demand = drawFromDist(probDemand) * 18 / 100\n",
    "\n",
    "        def charge(self, time, power):\n",
    "            maxCharge = time * power  # kWh\n",
    "            if maxCharge > self.demand:\n",
    "                self.demand = 0\n",
    "                return maxCharge - self.demand\n",
    "            else:\n",
    "                self.demand -= maxCharge\n",
    "                return maxCharge\n",
    "\n",
    "        def isDone(self):\n",
    "            return self.demand <= 0\n",
    "\n",
    "\n",
    "    chargingPoints = {nr: None for nr in range(nrChargingPoints)}\n",
    "\n",
    "    # kWh\n",
    "    demandsKwh = np.zeros((nrChargingPoints, days, len(times)))\n",
    "\n",
    "\n",
    "    ###############  SIMULATION LOOP  #############################\n",
    "\n",
    "    for day in range(days):\n",
    "        for time in times:\n",
    "            for chargingPoint in range(nrChargingPoints):\n",
    "                \n",
    "                # phase 1: car already there, or potentially new car arrives\n",
    "                car = chargingPoints[chargingPoint]\n",
    "                if car is None:\n",
    "                    if np.random.rand() < probOneCarAppearsQuartHourly[time]:\n",
    "                        car = Car()\n",
    "                if car is None:\n",
    "                    continue\n",
    "\n",
    "                # phase 2: car takes free spot\n",
    "                chargingPoints[chargingPoint] = car\n",
    "\n",
    "                # phase 3: car charges\n",
    "                chargedKwh = car.charge(0.25, powerPerStation_kW)\n",
    "                demandsKwh[chargingPoint, day, time] = chargedKwh\n",
    "\n",
    "                # phase 4: if car is done charging, it leaves the spot\n",
    "                if car.isDone():\n",
    "                    chargingPoints[chargingPoint] = None\n",
    "\n",
    "    \n",
    "    ###############  UNPACKING RESULTS  ###########################\n",
    "\n",
    "    stationSumDemands_kWh = np.sum(demandsKwh, axis=0)\n",
    "\n",
    "    # Total energy consumed in kWh\n",
    "    totalEnergyConsumed_kWh = np.sum(demandsKwh)\n",
    "    \n",
    "    # The theoretical maximum power demand\n",
    "    theoreticalMaxDemand_kW = nrChargingPoints * powerPerStation_kW\n",
    "    \n",
    "    # The actual maximum power demand (= the maximum sum of all chargepoints power demands at a given 15-minute interval)\n",
    "    # Actual Maximum Demand beschreibt die höchste Nachfrage/Leistung die während des Jahres abgerufen wird. \n",
    "    # Wenn bei 20 Ladepunkten für einen Simulationsdurchlauf höchstens 12 Punkte gleichzeitig genutzt werden \n",
    "    # dann wäre der Actual Maximum Demand 132 kW (bei einer Ladeleistung der Ladepunkte von 11 kW). \n",
    "    # Wahrscheinlichkeit und Streuung muss dabei nicht berücksichtigt werden, es geht um den konkreten Wert eines Simulations-Durchlaufs \n",
    "    # (diese Werte werden sich je nach Durchlauf natürlich unterscheiden).\n",
    "    actualMaxDemand_kW = np.max(stationSumDemands_kWh) / 0.25\n",
    "    \n",
    "    # The ratio of actual to maximum power demand (\"concurrency factor\")\n",
    "    concurrencyFactor = actualMaxDemand_kW / theoreticalMaxDemand_kW\n",
    "\n",
    "\n",
    "    return {\n",
    "        \"demandsKwh\": demandsKwh, \n",
    "        \"totalEnergyConsumed\": totalEnergyConsumed_kWh,\n",
    "        \"theoreticalMaxDemand\": theoreticalMaxDemand_kW,\n",
    "        \"actualMaxDemand\": actualMaxDemand_kW,\n",
    "        \"concurrencyFactor\": concurrencyFactor\n",
    "    }\n",
    "\n"
   ]
  },
  {
   "cell_type": "code",
   "execution_count": 3,
   "metadata": {},
   "outputs": [
    {
     "data": {
      "text/plain": [
       "<matplotlib.legend.Legend at 0x111eeea10>"
      ]
     },
     "execution_count": 3,
     "metadata": {},
     "output_type": "execute_result"
    },
    {
     "data": {
      "image/png": "[encoded data removed]",
      "text/plain": [
       "<Figure size 640x480 with 1 Axes>"
      ]
     },
     "metadata": {},
     "output_type": "display_data"
    }
   ],
   "source": [
    "\n",
    "################################################################\n",
    "#               First task\n",
    "################################################################\n",
    "\n",
    "results = simulation(probOneCarAppears, probDemand, days, nrChargingPoints, powerPerStation_kW)\n",
    "\n",
    "\n",
    "\n",
    "stationSumDemandsKw = np.sum(results[\"demandsKwh\"], axis=0) / 0.25\n",
    "highestStationSumDemandKw = np.max(stationSumDemandsKw, axis=0)\n",
    "averageStationSumDemandKw = np.mean(stationSumDemandsKw, axis=0)\n",
    "lowestStationSumDemandKw = np.min(stationSumDemandsKw, axis=0)\n",
    "plt.plot(highestStationSumDemandKw, label=\"highest\")\n",
    "plt.plot(averageStationSumDemandKw, label=\"average\")\n",
    "plt.plot(lowestStationSumDemandKw, label=\"lowest\")\n",
    "plt.title(\"average day station sum\")\n",
    "plt.legend()\n",
    "\n"
   ]
  },
  {
   "cell_type": "markdown",
   "metadata": {},
   "source": [
    "The above graphic shows a summary of the 365 days of the simulated year. The orange line shows the quarter-hourly demand averaged over all 365 days.\n",
    "The below output lists the required outputs for task 1."
   ]
  },
  {
   "cell_type": "code",
   "execution_count": 4,
   "metadata": {},
   "outputs": [
    {
     "data": {
      "text/plain": [
       "{'totalEnergyConsumed': 65516.0,\n",
       " 'theoreticalMaxDemand': 220,\n",
       " 'actualMaxDemand': 88.0,\n",
       " 'concurrencyFactor': 0.4}"
      ]
     },
     "execution_count": 4,
     "metadata": {},
     "output_type": "execute_result"
    }
   ],
   "source": [
    "{\n",
    "    \"totalEnergyConsumed\": results[\"totalEnergyConsumed\"], \n",
    "    \"theoreticalMaxDemand\": results[\"theoreticalMaxDemand\"], \n",
    "    \"actualMaxDemand\": results[\"actualMaxDemand\"], \n",
    "    \"concurrencyFactor\": results[\"concurrencyFactor\"]\n",
    "}"
   ]
  },
  {
   "cell_type": "markdown",
   "metadata": {},
   "source": [
    "# BONUS"
   ]
  },
  {
   "cell_type": "code",
   "execution_count": 5,
   "metadata": {},
   "outputs": [
    {
     "data": {
      "text/plain": [
       "[<matplotlib.lines.Line2D at 0x11a78b460>]"
      ]
     },
     "execution_count": 5,
     "metadata": {},
     "output_type": "execute_result"
    },
    {
     "data": {
      "image/png": "[encoded data removed]",
      "text/plain": [
       "<Figure size 640x480 with 1 Axes>"
      ]
     },
     "metadata": {},
     "output_type": "display_data"
    }
   ],
   "source": [
    "\n",
    "################################################################\n",
    "#               BONUS\n",
    "################################################################\n",
    "\n",
    "\n",
    "# Bonus\n",
    "# Run the program from task 1 for between 1 and 30 charge-points. How does the concurrency factor behave?\n",
    "concurrencyFactors = []\n",
    "for nrChargePoints in range(1, 31):\n",
    "    results = simulation(probOneCarAppears, probDemand, days, nrChargePoints, powerPerStation_kW)\n",
    "    concurrencyFactors.append(results[\"concurrencyFactor\"])\n",
    "\n",
    "plt.plot(concurrencyFactors)\n",
    "\n"
   ]
  },
  {
   "cell_type": "markdown",
   "metadata": {},
   "source": [
    "### If you consider the impact of DST vs. mapping the hours to the 15 minute ticks.\n",
    "- We've already mentioned how our disaggregation of probabilities from one hour intervals to quarter-hour intervals assumes that the probability is not memory less.\n",
    "- \n",
    "\n",
    "### If you seed the probabilities vs. using random() for random-but-deterministic results.\n",
    "\n",
    "- seeding probabilities for the purpose of creating reproducible results would be detremimental to the process\n",
    "- since each simulation is but _one_ possible realization of a statistical process, seeding would cut off all but one possible realizations\n",
    "- however: we _require_ those other processes to get a realistic impression of the spread of possible events\n",
    "- because after all, it is absolutely possible (though unlikely) that at one point in time 20 cars do arrive at the parking lot, all needing to charge\n",
    "- such an event is unlikely to be covered by a fxied (=seeded) realization of the simulation.\n"
   ]
  },
  {
   "cell_type": "markdown",
   "metadata": {},
   "source": [
    "# Side note: performance\n",
    "\n",
    "It wasn't explicitly mentioned in the task description that performance should be a concern. But if we wanted to improve performance, some approaches spring to mind:\n",
    "\n",
    "\n",
    "## Parallelizing\n",
    "\n",
    "After the (very useful, thanks!) email exchange on the subject, we've now learned that `probOneCarAppears` is independent of the presence of cars at other charging points. \n",
    "With this knowledge, there seems be no shared memory between the different charging stations, meaning that we could easily **parallelize** the calculations - with simply one thread per charging point.\n",
    "\n",
    "Also: if this were implemented in node, parallelization would probably best be implemented using [worker-threads](https://nodejs.org/api/worker_threads.html). \n",
    "\n",
    "\n",
    "## More efficient uncertainty estimation: MCMC\n",
    "\n",
    "We mentioned above how we can get an estimate of the uncertainty on our simulation results by employing a \"Monte Carlo\" approach, where we simply run the simulation several times and create histograms of the results, which should approximate the true probability distributions. \n",
    "\n",
    "Monte Carlo is, however, computationally rather inefficient. A more efficient approach could me  **Markov Chain Monte Carlo**, (https://en.wikipedia.org/wiki/Markov_chain_Monte_Carlo) which yields the same results as conventional Monte Carlo but usually with far fewer samples.\n",
    "\n",
    "Full disclosure: this was actually the topic of my master-thesis, so I'm biased towards that approach here."
   ]
  }
 ],
 "metadata": {
  "kernelspec": {
   "display_name": "geo",
   "language": "python",
   "name": "python3"
  },
  "language_info": {
   "codemirror_mode": {
    "name": "ipython",
    "version": 3
   },
   "file_extension": ".py",
   "mimetype": "text/x-python",
   "name": "python",
   "nbconvert_exporter": "python",
   "pygments_lexer": "ipython3",
   "version": "3.10.6"
  }
 },
 "nbformat": 4,
 "nbformat_minor": 2
}
